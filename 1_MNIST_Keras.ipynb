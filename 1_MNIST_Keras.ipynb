{
 "cells": [
  {
   "cell_type": "markdown",
   "metadata": {},
   "source": [
    "# Deep Learning tutorial #1\n",
    "\n",
    "# Clasificación MNIST con Keras\n",
    "\n",
    "by [Pedro Fernando Rodenas Perez](https://pedrofrodenas.github.io) / [GitHub](https://github.com/PedrofRodenas)\n"
   ]
  },
  {
   "cell_type": "markdown",
   "metadata": {},
   "source": [
    "### Introducción\n",
    "\n",
    "Keras es una biblioteca de código abierto escrita en Python. Se ejecuta sobre [TensorFlow](https://www.tensorflow.org). Su uso facilita mucho la implementación de redes neuronales profundas, permitiendo crear modelos complejos en poco tiempo y minimizando los errores. Es una API muy desarrollada y con una documentación excelente. Actualmente se sigue desarrollando.\n"
   ]
  },
  {
   "cell_type": "markdown",
   "metadata": {},
   "source": [
    "### Diagrama de flujo"
   ]
  },
  {
   "cell_type": "markdown",
   "metadata": {},
   "source": [
    "<img src=\"images/net.png\" width=\"500\">\n",
    "\n"
   ]
  },
  {
   "cell_type": "markdown",
   "metadata": {},
   "source": [
    "La imagen de entrada se procesa en la primera capa convolucional usando los pesos de filtro. Esto da como resultado 16 nuevas imágenes, una para cada filtro en la capa convolucional. Las imágenes también sub-muestrean, por lo que la resolución de los mapas de características se reduce de [28x28] a [14x14].\n",
    "La tercera capa consta de 36 filtros convolucionales con dimensiones [14x14x16], dando lugar a 36 mapas de características de dimensiones [14x14].   \n",
    "Se aplica de nuevo una capa de sub-muestreo, bajando la resolución de los anteriores mapas de características de [14x14] a [7x7]. Quedando con dimension el conjunto de mapas [7x7x36].  \n",
    "Finalmente se alisan todos los mapas de características de la capa anterior formando un vector de dimensiones [1, 7x7x36] --> [1, 1764].  \n",
    "Este vector se usa como entrada a la capa Fully-Connected con 128 neuronas del tipo Perceptrón Multicapa.  \n",
    "La salida de esta capa compone la entrada de la siguiente capa fully-connected con 10 neuronas, una para cada una de las clases, que se usa para determinar la clase de la imagen, es decir, qué número se representa en la imagen.\n"
   ]
  },
  {
   "cell_type": "markdown",
   "metadata": {},
   "source": [
    "Los pesos de los filtros convolucionales se eligen inicialmente al azar, por lo que la clasificación se realiza al azar. El error entre la clase predicha y la verdadera de la imagen de entrada se mide como entropía cruzada. El optimizador luego propaga automáticamente este error a través de la red convolucional usando la regla de la cadena de diferenciación y actualiza los pesos del filtro para mejorar el error de clasificación. Esto se hace iterativamente miles de veces hasta que el error de clasificación sea suficientemente bajo."
   ]
  },
  {
   "cell_type": "markdown",
   "metadata": {},
   "source": [
    "Tenga en cuenta que el cálculo en TensorFlow no se realiza de imagen en imagen sino que se calcula para un conjunto de imagenes, este conjunto se denomina batch size. Esta manera de entrenar la red hace que el cálculo sea más eficiente. Esto significa que el diagrama de flujo en realidad tiene una dimensión de datos más cuando se implementa en TensorFlow."
   ]
  },
  {
   "cell_type": "markdown",
   "metadata": {},
   "source": [
    "### Convolucion\n",
    "La operación de convolución discreta espacial se define como:  \n",
    "\n",
    "$$c[m,n] = I[m,n]\\otimes W[m,n] = \\sum_{j=0}^{J-1}{\\sum_{k=0}^{K-1}{W(j,k)I(m-j, n-k)}}$$\n",
    "\n",
    "Donde:\n",
    "* I es la imagen a procesar\n",
    "* W es el filtro convolucional o kernel\n",
    "* C es la imagen resultado de la convolución\n",
    "\n",
    "Visto gráficamente:\n",
    "\n",
    "<img src=\"images/Imagen1.png\" width=\"400\">\n",
    "\n",
    "El tamaño de paso para mover el filtro a través de la imagen de entrada se llama stride. Hay un stride para mover el filtro horizontalmente (eje x) y otro paso para moverse verticalmente (eje y).  \n",
    "En el siguiente tutorial se establece en 1 el stride en ambas direcciones, lo que significa que el filtro comienza en la esquina superior izquierda de la imagen de entrada y se mueve 1 píxel a la derecha en cada paso. Cuando el filtro llega al borde derecho de la imagen, el filtro vuelve al lado izquierdo y 1 píxel hacia abajo. Esto continúa hasta que el filtro haya alcanzado la esquina inferior derecha de la imagen de entrada y se haya generado toda la imagen de salida.\n",
    "\n",
    "Hay que tener en cuenta que para que el resultado de la convolución tenga el mismo tamaño que la imagen de entrada hay que rellenar los bordes con ceros. Sino la imagen de salida tendrá menor tamaño. La siguiente ecuación muestra el tamaño de la imagen de salida en función de los parámetros comentados:\n",
    "\n",
    "\n",
    "$$ R = \\frac{W-K+2P}{S}+1$$\n",
    "\n",
    "Donde:\n",
    "\n",
    "* W tamaño imagen entrada\n",
    "* K tamaño del filtro\n",
    "* P es la cantidad de 0's añadidos en un borde\n",
    "* S es el stride \n",
    "* R es el tamaño del resultado de la convolución\n",
    "\n",
    "Además, la salida de la convolución se puede pasar a través de una funcion de activación llamada Rectified Linear Unit (ReLU), que simplemente garantiza que la salida sea positiva porque los valores negativos se establecen en cero. \n",
    "La salida de una capa convolucional tambien puede ser sub-muestreada, que es conocido como pooling.\n",
    "#### Pooling\n",
    "Se aplica una ventana deslizante con un determinado stride como en la convolución pero esta toma los píxeles que caen dentro de ella y realiza algún tipo de operación lineal o no lineal. La más utilizada es conocida como Max-Pooling y toma el pixel que tiene más valor dentro de la ventana y lo coloca en la imagen de salida.  \n",
    "En la imagen siguiente se muestra la operación de pooling o sub-muestreo del tipo max-pooling. Con un stride de 2 para el eje horizontal y 2 para el eje vertical, tambien representado como stride = [2, 2].\n",
    "\n",
    "<img src=\"images/Imagen2.png\" width=\"400\">\n",
    "\n",
    "Nota que la imagen de salida tiene la mitad de tamaño que la imagen de entrada.\n"
   ]
  },
  {
   "cell_type": "markdown",
   "metadata": {},
   "source": [
    "Ahora que se ha comentado las operaciones principales que realizan este tipo de arquitecturas vamos con el código.\n"
   ]
  },
  {
   "cell_type": "markdown",
   "metadata": {},
   "source": [
    "### Importación de librerias"
   ]
  },
  {
   "cell_type": "code",
   "execution_count": 1,
   "metadata": {},
   "outputs": [],
   "source": [
    "%matplotlib inline\n",
    "import matplotlib.pyplot as plt\n",
    "import tensorflow as tf\n",
    "import numpy as np\n",
    "\n",
    "from random import sample\n",
    "from tensorflow.python.keras.models import Sequential\n",
    "from tensorflow.python.keras.layers import Reshape, MaxPooling2D\n",
    "from tensorflow.python.keras.layers import Conv2D, Dense, Flatten\n",
    "from tensorflow.python.keras.optimizers import Adam"
   ]
  },
  {
   "cell_type": "markdown",
   "metadata": {},
   "source": [
    "### Descarga de la base de datos MNIST"
   ]
  },
  {
   "cell_type": "markdown",
   "metadata": {},
   "source": [
    "Nota que al ser una base de datos tan popular ya existen scripts para descargar, descomprimir y formar el conjunto de datos de entreno y de test. En un caso real, hay que programar las funciones que se encarguen de la descarga, la importación, la unificación de las imagenes para que todas tengan el mismo tamaño, etc... Este paso normalmente es de los que ocupan más tiempo."
   ]
  },
  {
   "cell_type": "code",
   "execution_count": 2,
   "metadata": {},
   "outputs": [
    {
     "name": "stdout",
     "output_type": "stream",
     "text": [
      "Extracting data/MNIST/train-images-idx3-ubyte.gz\n",
      "Extracting data/MNIST/train-labels-idx1-ubyte.gz\n",
      "Extracting data/MNIST/t10k-images-idx3-ubyte.gz\n",
      "Extracting data/MNIST/t10k-labels-idx1-ubyte.gz\n"
     ]
    }
   ],
   "source": [
    "# Para descargar la base de datos MNIST\n",
    "old_v = tf.logging.get_verbosity()\n",
    "tf.logging.set_verbosity(tf.logging.ERROR)\n",
    "from tensorflow.examples.tutorials.mnist import input_data\n",
    "mnist = input_data.read_data_sets(\"data/MNIST/\", one_hot=True)"
   ]
  },
  {
   "cell_type": "markdown",
   "metadata": {},
   "source": [
    "El conjunto de datos MNIST ahora se ha cargado y consiste en 70,000 imágenes y números de clase para las imágenes. El conjunto de datos se divide en 3 subconjuntos. Uno se utiliza para entrenar la red, otro para testearla y otro para validar que el entreno se este realizando correctamente.  "
   ]
  },
  {
   "cell_type": "code",
   "execution_count": 3,
   "metadata": {},
   "outputs": [
    {
     "name": "stdout",
     "output_type": "stream",
     "text": [
      "Tamaño de:\n",
      "- Set de entreno:\t55000\n",
      "- Set de test:\t\t10000\n",
      "- Set de validación:\t5000\n"
     ]
    }
   ],
   "source": [
    "print(\"Tamaño de:\")\n",
    "print(\"- Set de entreno:\\t{}\".format(len(mnist.train.labels)))\n",
    "print(\"- Set de test:\\t\\t{}\".format(len(mnist.test.labels)))\n",
    "print(\"- Set de validación:\\t{}\".format(len(mnist.validation.labels)))"
   ]
  },
  {
   "cell_type": "markdown",
   "metadata": {},
   "source": [
    "MNIST contiene imagenes de números manuscritos que van desde el 0 hasta el 9, por tanto tenemos 10 clases a clasificar. Las imagenes se almacenan en un vector y las etiquetas en otro.   \n",
    "Las etiquetas sirven para decirle a la red que número es una determinada imagen a la hora de entrenar. En la fase de test sirven para comprobar si la red neuronal ha clasificado bien un determinado número.\n",
    "\n",
    "Ahora se va asignar a variables datos como el tamaño de las imágenes, el número de imagenes etc... Estos datos se usarán posteriormente."
   ]
  },
  {
   "cell_type": "code",
   "execution_count": 4,
   "metadata": {},
   "outputs": [],
   "source": [
    "# Numero de píxeles en cada dimension de la imagen\n",
    "img_size = 28\n",
    "\n",
    "# Las imagenes se almacenan en un vector de una dimensión de este tamaño\n",
    "img_size_flat = img_size*img_size\n",
    "\n",
    "# Numero de canales de color de las imagenes. Como son de escala de grises sólo tienen 1 canal\n",
    "num_channels = 1\n",
    "\n",
    "# Numero de clases, como son digitos que van desde el 0 al 9\n",
    "num_classes = 10\n",
    "\n",
    "# Lista con el tamaño de la imagen de la forma [altura, anchura] = [img_size, img_size]  \n",
    "img_shape = (img_size, img_size)\n",
    "\n",
    "# Lista con altura, anchura y profundidad de las imagenes [altura, anchura, canales_color]\n",
    "img_shape_full = (img_size, img_size, 1)"
   ]
  },
  {
   "cell_type": "markdown",
   "metadata": {},
   "source": [
    "### Guardar los datos de MNIST en diferentes variables\n",
    "\n",
    "Las etiquetas que indican qué número es una imagen se almacenan en vectores de 0's en el que la posición que contiene un 1 indica de que número se trata. Este tipo de codificación se denomina _one hot_\n",
    "\n",
    "Por ejemplo el número 5 se codifica de la siguiente manera:\n",
    "\n",
    "\n",
    "$$5 = \\begin{bmatrix}\n",
    "0 &  0& 0 & 0 & 0 &1  & 0 &0  & 0 & 0\n",
    "\\end{bmatrix}$$\n",
    "\n",
    "\n",
    "Nota que en la posición 5 del vector (empezando a contar por 0) se coloca el 1 indicando que se trata del número 5.\n",
    "Para obtener el entero a partir del vector se utiliza la función **numpy.argmax()**\n",
    "\n"
   ]
  },
  {
   "cell_type": "code",
   "execution_count": 5,
   "metadata": {},
   "outputs": [],
   "source": [
    "# Guardar las imagenes y etiquetas de entreno\n",
    "images_train = mnist.train.images\n",
    "labels_train = mnist.train.labels\n",
    "\n",
    "# Guardar las imagenes y etiquetas de test\n",
    "images_test = mnist.test.images\n",
    "labels_test = mnist.test.labels"
   ]
  },
  {
   "cell_type": "markdown",
   "metadata": {},
   "source": [
    "### Función auxiliar para plotear imagenes\n",
    "\n",
    "La siguiente función sirve para plotear 9 ejemplos de la base de datos MNIST, y indicar que número se trata. En el caso que se le pase lo que ha predicho la red ploteará las imágenes predichas correctamente con un marco verde y las mal predichas con un rectángulo rojo."
   ]
  },
  {
   "cell_type": "code",
   "execution_count": 6,
   "metadata": {},
   "outputs": [],
   "source": [
    "def plot_imagenes(imagenes, verdaderas, predichas=None):\n",
    "    \n",
    "    # Seleccionar 9 indices aleatorios para elegir las imagenes\n",
    "    ind = sample(range(len(imagenes)),9)\n",
    "    \n",
    "    # Tomar las imagenes\n",
    "    img = imagenes[ind]\n",
    "    \n",
    "    color = 'green'\n",
    "    \n",
    "    # Tomar las etiquetas verdaderas y predichas si las hay\n",
    "    if predichas is None:\n",
    "        etiq = verdaderas[ind]\n",
    "    else:\n",
    "        etiq = verdaderas[ind]\n",
    "        pred = predichas[ind]\n",
    "         \n",
    "    # Crear la figura con 3x3 sub-plots\n",
    "    fig, axes = plt.subplots(3, 3)\n",
    "    fig.subplots_adjust(hspace=0.3, wspace=0.3)\n",
    "\n",
    "    for i, ax in enumerate(axes.flat):\n",
    "        # Plotear imagen.\n",
    "        ax.imshow(img[i].reshape(img_shape), cmap='binary')\n",
    "\n",
    "        # Mostrar los numeros verdaderos y predichos\n",
    "        if predichas is None:\n",
    "            xlabel = \"Numero: {0}\".format(etiq[i])\n",
    "        else:\n",
    "            xlabel = \"Numero: {0}, Predicho: {1}\".format(etiq[i], pred[i])\n",
    "            \n",
    "            \n",
    "            if etiq[i] != pred[i]:\n",
    "                color = 'red'\n",
    "            \n",
    "            ax.spines['bottom'].set_color(color)\n",
    "            ax.spines['top'].set_color(color)\n",
    "            ax.spines['left'].set_color(color)\n",
    "            ax.spines['right'].set_color(color)\n",
    "\n",
    "        # Mostrar los numeros en el eje x\n",
    "        ax.set_xlabel(xlabel)\n",
    "        \n",
    "        # Borrar los ticks del plot\n",
    "        ax.set_xticks([])\n",
    "        ax.set_yticks([])\n",
    "    \n",
    "    plt.show()"
   ]
  },
  {
   "cell_type": "markdown",
   "metadata": {},
   "source": [
    "### Plotear varias imágenes para comprobar que los datos son correctos"
   ]
  },
  {
   "cell_type": "code",
   "execution_count": 7,
   "metadata": {},
   "outputs": [
    {
     "data": {
      "image/png": "[encoded data removed]",
      "text/plain": [
       "<Figure size 432x288 with 9 Axes>"
      ]
     },
     "metadata": {},
     "output_type": "display_data"
    }
   ],
   "source": [
    "# Tomar las imagenes del conjunto de test\n",
    "images = mnist.test.images\n",
    "\n",
    "# Tomar las etiquetas del conjunto de test\n",
    "true_labels = mnist.test.labels\n",
    "\n",
    "# Pasar de la codificacion one hot para obtener la etiqueta en formato entero\n",
    "true_cls = np.argmax(true_labels, axis=1)\n",
    "\n",
    "# Plotear las imagenes y sus etiquetas\n",
    "plot_imagenes(imagenes=images, verdaderas=true_cls)"
   ]
  },
  {
   "cell_type": "markdown",
   "metadata": {},
   "source": [
    "### Función auxiliar para plotear las imagenes mal clasificadas\n",
    "La siguiente función se utiliza para ver las imagenes que se han clasificado incorrectamente. Es útil realizar este paso para observar que es lo que está confundiendo a la red y aplicar un preprocesado a la base de datos si fuera necesario para tratar de corregirlo.  \n",
    "Se va a comparar las etiquetas que nos proporciona la base de datos con las predichas con la red neuronal a ver si coinciden."
   ]
  },
  {
   "cell_type": "code",
   "execution_count": 8,
   "metadata": {},
   "outputs": [],
   "source": [
    "def plot_misclasification(pred_cls, true_cls):\n",
    "    # pred_cls son las etiquetas predichas con la red\n",
    "    # true_cls son las etiquetas verdaderas \n",
    "\n",
    "    # Array booleano indicando si coinciden para cada posicion\n",
    "    incorrectas = (pred_cls != true_cls)\n",
    "\n",
    "    # El vector incorrectas sirve como indice para obtener todas las imagenes\n",
    "    # del conjunto test que han sido clasificadas incorrectamente\n",
    "    images = images_test[incorrectas]\n",
    "    \n",
    "    # Obtener las clases predecidas para esas imagenes\n",
    "    pred_cls = pred_cls[incorrectas]\n",
    "\n",
    "    # Obtener las clases verdaderas para esas imagenes\n",
    "    verd = true_cls[incorrectas]\n",
    "    \n",
    "    # Ploteamos esas imagenes usando la funcion auxiliar definida anteriormente\n",
    "    plot_imagenes(imagenes=images, verdaderas=verd, \n",
    "                  predichas=pred_cls)"
   ]
  },
  {
   "cell_type": "markdown",
   "metadata": {},
   "source": [
    "### Construcción de red neuronal\n",
    "\n",
    "Keras dispone de dos modos para construir una arquitectura de red, el **sequential mode** y el **functional mode**. En este tutorial usaremos el sequential mode que es el más simple.  \n",
    "En el sequential mode se añaden capas de neuronas para formar la arquitectura neuronal. En la primera capa se deben especificar las dimensiones de los datos de entrada.  \n",
    "En nuestro caso las imagenes se encuentran en un vector de una fila y 28*28 columnas. Una vez introducido el vector a la red hay que modificarlo para que se realice la convolución correctamente. Transformando el vector de [1, 784] a una matriz de [28, 28] que es la imagen que se puede visualizar.  "
   ]
  },
  {
   "cell_type": "code",
   "execution_count": 9,
   "metadata": {},
   "outputs": [],
   "source": [
    "# Llamamos al constructor del modelo sequential\n",
    "model = Sequential()\n",
    "\n",
    "# Capa encargada de convertir el vector de 784 elementos para formar \n",
    "# la imagen de (28, 28, 1)\n",
    "model.add(Reshape(img_shape_full, input_shape=(img_size_flat,)))\n",
    "\n",
    "# Primera capa convolucional con funcion de activacion ReLU y max-pooling.\n",
    "model.add(Conv2D(kernel_size=5, strides=1, filters=16, padding='same',\n",
    "                 activation='relu', name='layer_conv1'))\n",
    "model.add(MaxPooling2D(pool_size=2, strides=2))\n",
    "\n",
    "# Segunda capa convolucional con funcion de activacion ReLU y max-pooling.\n",
    "model.add(Conv2D(kernel_size=5, strides=1, filters=36, padding='same',\n",
    "                 activation='relu', name='layer_conv2'))\n",
    "model.add(MaxPooling2D(pool_size=2, strides=2))\n",
    "\n",
    "# Se convierte a un vector la salida de la capa anterior.\n",
    "# El vector tendra de dimensiones [1, 1764]\n",
    "model.add(Flatten())\n",
    "\n",
    "# Capa fully-connected. Tambien conocidas como Dense\n",
    "model.add(Dense(128, activation='relu'))\n",
    "\n",
    "# Ultima capa de la red, del tipo Dense. Nota que hay \n",
    "# num_classes=10 neuronas en esta capa. La clasificacion\n",
    "# se hara comprobando que neurona obtiene a la salida un \n",
    "# numero mayor.\n",
    "model.add(Dense(num_classes, activation='softmax'))"
   ]
  },
  {
   "cell_type": "markdown",
   "metadata": {},
   "source": [
    "### Comprobar la estructura de la red\n",
    "\n",
    "Para comprobar la estructura de la red y el número de parámetros entrenables usamos la siguiente sentencia."
   ]
  },
  {
   "cell_type": "code",
   "execution_count": 10,
   "metadata": {},
   "outputs": [
    {
     "name": "stdout",
     "output_type": "stream",
     "text": [
      "_________________________________________________________________\n",
      "Layer (type)                 Output Shape              Param #   \n",
      "=================================================================\n",
      "reshape (Reshape)            (None, 28, 28, 1)         0         \n",
      "_________________________________________________________________\n",
      "layer_conv1 (Conv2D)         (None, 28, 28, 16)        416       \n",
      "_________________________________________________________________\n",
      "max_pooling2d (MaxPooling2D) (None, 14, 14, 16)        0         \n",
      "_________________________________________________________________\n",
      "layer_conv2 (Conv2D)         (None, 14, 14, 36)        14436     \n",
      "_________________________________________________________________\n",
      "max_pooling2d_1 (MaxPooling2 (None, 7, 7, 36)          0         \n",
      "_________________________________________________________________\n",
      "flatten (Flatten)            (None, 1764)              0         \n",
      "_________________________________________________________________\n",
      "dense (Dense)                (None, 128)               225920    \n",
      "_________________________________________________________________\n",
      "dense_1 (Dense)              (None, 10)                1290      \n",
      "=================================================================\n",
      "Total params: 242,062\n",
      "Trainable params: 242,062\n",
      "Non-trainable params: 0\n",
      "_________________________________________________________________\n"
     ]
    }
   ],
   "source": [
    "model.summary()"
   ]
  },
  {
   "cell_type": "markdown",
   "metadata": {},
   "source": [
    "### Compilación del modelo\n",
    "\n",
    "Se ha definido la estructura de la red neuronal convolucional, ahora hay que añadir el tipo de optimizador y las métricas que se van a utilizar.  \n",
    "Los modelos de Deep Learning generalmente son entrenados por un optimizador de descenso de gradiente estocástico. Hay muchas variaciones de descendencia de gradiente estocástica: Adam, RMSProp, Adagrad, etc. Todas permiten establecer el **learning rate**.  \n",
    "Cuando más pequeño sea este parámetro más tardará la red en entrenar y más precisión se obtendrá para el conjunto de datos de entreno. Hay que elegir un _learning rate_ optimo para cada problema de Deep Learning. Si es muy pequeño la red aprenderá del ruido que hay en todas las imágenes y no de la función subyacente que relaciona las entradas y las salidas.  \n",
    "Cuando se da este problema se obtiene una gran precisión para el conjunto de datos de entreno y disminuye para el de test porque la red se ha especializado en reconocer el conjunto de datos para el que ha sido entrenada y ha perdido la habilidad de generalizar para otros casos. Este problema se conoce como **overfitting**"
   ]
  },
  {
   "cell_type": "code",
   "execution_count": 11,
   "metadata": {},
   "outputs": [],
   "source": [
    "optimizer = Adam(lr=1e-3)\n",
    "\n",
    "model.compile(optimizer=optimizer,\n",
    "              loss='categorical_crossentropy',\n",
    "              metrics=['accuracy'])"
   ]
  },
  {
   "cell_type": "markdown",
   "metadata": {},
   "source": [
    "### Entreno\n",
    "\n",
    "Ahora que ya se ha definido la estructura de red, el optimizador, learning rate y metricas ya se puede entrenar la red.  \n",
    "Mientras se va entrenando la red aparece la cantidad de épocas o **_epoch_** completadas. Una época o _epoch_ es cuando la red ha visto todas las imagenes que contiene la base de datos. El número de epocas será otro hiperparámetro a elegir.  \n",
    "No es posible entrenar la red pasandole todas las imágenes a la vez porque la memoria RAM es un recurso limitado.  \n",
    "Por tanto se le pasan en grupos de un determinado número de imagenes conocido como **batch size**, cuento más grande sea este parámetro menos se tardará en completar el entreno. El **batch size** estrá limitado por la memoria RAM del computador.\n"
   ]
  },
  {
   "cell_type": "code",
   "execution_count": 12,
   "metadata": {},
   "outputs": [
    {
     "name": "stdout",
     "output_type": "stream",
     "text": [
      "Epoch 1/1\n",
      "55000/55000 [==============================] - 66s 1ms/step - loss: 0.2238 - acc: 0.9336\n"
     ]
    },
    {
     "data": {
      "text/plain": [
       "<tensorflow.python.keras.callbacks.History at 0x1380694a8>"
      ]
     },
     "execution_count": 12,
     "metadata": {},
     "output_type": "execute_result"
    }
   ],
   "source": [
    "model.fit(x=images_train,\n",
    "          y=labels_train,\n",
    "          epochs=1, batch_size=128)"
   ]
  },
  {
   "cell_type": "markdown",
   "metadata": {},
   "source": [
    "El parámtro **acc** es la precisión que ha obtenido la red para el conjunto de entreno.  \n",
    "Ahora hay que comprobar si clasifica bien las imágenes del conjunto de test. Estas imágenes aún no las ha visto la red y no tiene información de ellas."
   ]
  },
  {
   "cell_type": "markdown",
   "metadata": {},
   "source": [
    "### Evaluación de la red\n",
    "\n",
    "Para ver si la red ha aprendido a clasificar bien los números manuscritos hay que comprobar la precisión que obtiene en el conjunto de datos de test. Para este conjunto no ha sido entrenada la red."
   ]
  },
  {
   "cell_type": "code",
   "execution_count": 13,
   "metadata": {},
   "outputs": [
    {
     "name": "stdout",
     "output_type": "stream",
     "text": [
      "10000/10000 [==============================] - 5s 465us/step\n"
     ]
    }
   ],
   "source": [
    "result = model.evaluate(x=images_test,\n",
    "                        y=labels_test)"
   ]
  },
  {
   "cell_type": "code",
   "execution_count": 14,
   "metadata": {},
   "outputs": [
    {
     "name": "stdout",
     "output_type": "stream",
     "text": [
      "loss 0.07037514278031885\n",
      "acc 0.9771\n"
     ]
    }
   ],
   "source": [
    "for name, value in zip(model.metrics_names, result):\n",
    "    print(name, value)"
   ]
  },
  {
   "cell_type": "markdown",
   "metadata": {},
   "source": [
    "### Predecir y mostrar algunos ejemplos\n"
   ]
  },
  {
   "cell_type": "code",
   "execution_count": 15,
   "metadata": {},
   "outputs": [],
   "source": [
    "y_pred = model.predict(x = images_test)"
   ]
  },
  {
   "cell_type": "markdown",
   "metadata": {},
   "source": [
    "El numero predicho por la red se encuentra codificado en **one_hot** hay que convertirlo a entero para ver el resultado."
   ]
  },
  {
   "cell_type": "code",
   "execution_count": 16,
   "metadata": {},
   "outputs": [],
   "source": [
    "num_pred = np.argmax(y_pred, axis=1)"
   ]
  },
  {
   "cell_type": "code",
   "execution_count": 17,
   "metadata": {},
   "outputs": [
    {
     "data": {
      "image/png": "[encoded data removed]",
      "text/plain": [
       "<Figure size 432x288 with 9 Axes>"
      ]
     },
     "metadata": {},
     "output_type": "display_data"
    }
   ],
   "source": [
    "plot_imagenes(imagenes=images_test,\n",
    "              verdaderas=true_cls,\n",
    "              predichas=num_pred)"
   ]
  },
  {
   "cell_type": "markdown",
   "metadata": {},
   "source": [
    "### Ver las que se han clasificado incorrectamente"
   ]
  },
  {
   "cell_type": "code",
   "execution_count": 18,
   "metadata": {},
   "outputs": [
    {
     "data": {
      "image/png": "[encoded data removed]",
      "text/plain": [
       "<Figure size 432x288 with 9 Axes>"
      ]
     },
     "metadata": {},
     "output_type": "display_data"
    }
   ],
   "source": [
    "plot_misclasification(pred_cls=num_pred, true_cls=true_cls)"
   ]
  },
  {
   "cell_type": "markdown",
   "metadata": {},
   "source": [
    "### Guardar el modelo\n",
    "\n",
    "Es útil gurdar un modelo que ha sido entrenado satisfactoriamente para su posterior uso. De esta manera no hay que entrenar de nuevo la red y se pueden realizar prediciones con el modelo guardado.\n",
    "NOTA: Será necesario instalar el paquete h5py para poder guardar modelos."
   ]
  },
  {
   "cell_type": "code",
   "execution_count": 19,
   "metadata": {},
   "outputs": [],
   "source": [
    "# Definir la carpeta donde se guarda el modelo y su nombre.\n",
    "# En este caso se guarda en el mismo directorio que contiene este script\n",
    "nombre_model = 'modelo.h5'\n",
    "\n",
    "# Guardamos el modelo y todos los pesos entrenados\n",
    "model.save(nombre_model)"
   ]
  },
  {
   "cell_type": "code",
   "execution_count": 20,
   "metadata": {},
   "outputs": [],
   "source": [
    "# Borramos el modelo de memoria si no se va a utilizar mas\n",
    "del model"
   ]
  }
 ],
 "metadata": {
  "kernelspec": {
   "display_name": "Python 3",
   "language": "python",
   "name": "python3"
  },
  "language_info": {
   "codemirror_mode": {
    "name": "ipython",
    "version": 3
   },
   "file_extension": ".py",
   "mimetype": "text/x-python",
   "name": "python",
   "nbconvert_exporter": "python",
   "pygments_lexer": "ipython3",
   "version": "3.6.4"
  }
 },
 "nbformat": 4,
 "nbformat_minor": 2
}
