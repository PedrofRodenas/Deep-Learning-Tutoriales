{
 "cells": [
  {
   "cell_type": "markdown",
   "metadata": {},
   "source": [
    "# Deep Learning tutorial #2\n",
    "\n",
    "# Carga de modelo entrenado con Keras\n",
    "\n",
    "by [Pedro Fernando Rodenas Perez](https://pedrofrodenas.github.io) / [GitHub](https://github.com/PedrofRodenas)"
   ]
  },
  {
   "cell_type": "markdown",
   "metadata": {},
   "source": [
    "### Introducción\n",
    "\n",
    "En el [anterior tutorial](https://github.com/pedrofrodenas/Deep-Learning-Tutoriales/blob/master/1_MNIST_Keras.ipynb) hemos entrenado una red neuronal con Keras para clasificar la base de datos MNIST.  \n",
    "En este tutorial aprenderemos como cargar un modelo y realizar clasificaciones con el sin tener que realizar todo el proceso de entreno.\n"
   ]
  },
  {
   "cell_type": "markdown",
   "metadata": {},
   "source": [
    "### Importación de librerias"
   ]
  },
  {
   "cell_type": "code",
   "execution_count": 21,
   "metadata": {},
   "outputs": [],
   "source": [
    "from keras.models import load_model\n",
    "import matplotlib.pyplot as plt\n",
    "import numpy as np\n",
    "import tensorflow as tf\n",
    "import math\n",
    "from random import sample"
   ]
  },
  {
   "cell_type": "markdown",
   "metadata": {},
   "source": [
    "### Descarga de la base de datos MNIST\n",
    "\n",
    "Aunque el modelo este entrenado ya, no almacena el conjunto de datos de test o entreno, por tanto, es necesario descargarlos de nuevo."
   ]
  },
  {
   "cell_type": "code",
   "execution_count": 2,
   "metadata": {},
   "outputs": [
    {
     "name": "stdout",
     "output_type": "stream",
     "text": [
      "Extracting data/MNIST/train-images-idx3-ubyte.gz\n",
      "Extracting data/MNIST/train-labels-idx1-ubyte.gz\n",
      "Extracting data/MNIST/t10k-images-idx3-ubyte.gz\n",
      "Extracting data/MNIST/t10k-labels-idx1-ubyte.gz\n"
     ]
    }
   ],
   "source": [
    "# Para descargar la base de datos MNIST\n",
    "import tensorflow as tf\n",
    "old_v = tf.logging.get_verbosity()\n",
    "tf.logging.set_verbosity(tf.logging.ERROR)\n",
    "from tensorflow.examples.tutorials.mnist import input_data\n",
    "mnist = input_data.read_data_sets(\"data/MNIST/\", one_hot=True)"
   ]
  },
  {
   "cell_type": "markdown",
   "metadata": {},
   "source": [
    "### Guardar los datos de MNIST en diferentes variables\n"
   ]
  },
  {
   "cell_type": "code",
   "execution_count": 23,
   "metadata": {},
   "outputs": [],
   "source": [
    "# Guardar las imagenes y etiquetas de entreno\n",
    "images_train = mnist.train.images\n",
    "labels_train = mnist.train.labels\n",
    "\n",
    "# Guardar las imagenes y etiquetas de test\n",
    "images_test = mnist.test.images\n",
    "labels_test = mnist.test.labels\n",
    "\n",
    "img_shape = (28, 28)"
   ]
  },
  {
   "cell_type": "markdown",
   "metadata": {},
   "source": [
    "### Importación de modelo entrenado\n",
    "El modelo entrenado en el [anterior tutorial](https://github.com/pedrofrodenas/Deep-Learning-Tutoriales/blob/master/1_MNIST_Keras.ipynb) ha sido nombrado _modelo.keras_ . Es necesario incluir la ruta completa al modelo para ser cargado correctamente.  \n",
    "El modelo contiene almacenado la estructura de la red neuronal, el conjunto de matrices de pesos entrenadas. \n",
    "A continuacion se incluye la ruta al modelo y se carga.\n",
    "\n",
    "Si no has entrenado la red neuronal del [tutorial anterior](https://github.com/pedrofrodenas/Deep-Learning-Tutoriales/blob/master/1_MNIST_Keras.ipynb) y guardado el modelo no es posible cargarlo en este tutorial."
   ]
  },
  {
   "cell_type": "code",
   "execution_count": 8,
   "metadata": {},
   "outputs": [],
   "source": [
    "path_model = 'modelo.h5'\n",
    "\n",
    "new_model = load_model(path_model)"
   ]
  },
  {
   "cell_type": "markdown",
   "metadata": {},
   "source": [
    "### Visualización de la estructura del modelo\n",
    "Una vez cargado el modelo, no es necesario definir de nuevo toda la estructura de capas, ya está preparado para realizar clasificaciones.  \n",
    "A continuación se muestra el sumario del modelo:"
   ]
  },
  {
   "cell_type": "code",
   "execution_count": 9,
   "metadata": {},
   "outputs": [
    {
     "name": "stdout",
     "output_type": "stream",
     "text": [
      "_________________________________________________________________\n",
      "Layer (type)                 Output Shape              Param #   \n",
      "=================================================================\n",
      "reshape (Reshape)            (None, 28, 28, 1)         0         \n",
      "_________________________________________________________________\n",
      "layer_conv1 (Conv2D)         (None, 28, 28, 16)        416       \n",
      "_________________________________________________________________\n",
      "max_pooling2d (MaxPooling2D) (None, 14, 14, 16)        0         \n",
      "_________________________________________________________________\n",
      "layer_conv2 (Conv2D)         (None, 14, 14, 36)        14436     \n",
      "_________________________________________________________________\n",
      "max_pooling2d_1 (MaxPooling2 (None, 7, 7, 36)          0         \n",
      "_________________________________________________________________\n",
      "flatten (Flatten)            (None, 1764)              0         \n",
      "_________________________________________________________________\n",
      "dense (Dense)                (None, 128)               225920    \n",
      "_________________________________________________________________\n",
      "dense_1 (Dense)              (None, 10)                1290      \n",
      "=================================================================\n",
      "Total params: 242,062\n",
      "Trainable params: 242,062\n",
      "Non-trainable params: 0\n",
      "_________________________________________________________________\n"
     ]
    }
   ],
   "source": [
    "new_model.summary()"
   ]
  },
  {
   "cell_type": "markdown",
   "metadata": {},
   "source": [
    "### Predicción con el modelo cargado"
   ]
  },
  {
   "cell_type": "code",
   "execution_count": 13,
   "metadata": {},
   "outputs": [],
   "source": [
    "y_pred2 = new_model.predict(x=images_test)\n",
    "\n",
    "# Obtencion de las etiquetas predichas\n",
    "cls_pred2 = np.argmax(y_pred2,axis=1)"
   ]
  },
  {
   "cell_type": "markdown",
   "metadata": {},
   "source": [
    "### Comprobación de la precisión del modelo de manera manual"
   ]
  },
  {
   "cell_type": "code",
   "execution_count": 18,
   "metadata": {},
   "outputs": [
    {
     "name": "stdout",
     "output_type": "stream",
     "text": [
      "Precision : 0.9771%\n"
     ]
    }
   ],
   "source": [
    "# Obtencion de las etiquetas verdaderas\n",
    "true_labels2 = np.argmax(labels_test,axis=1)\n",
    "\n",
    "# Obtencion vector booleano para ver que posiciones coinciden\n",
    "possitions = cls_pred2 == true_labels2\n",
    "\n",
    "# Numero de prediciones correctas dividido entre todas las prediciones\n",
    "precision = sum(possitions)/len(true_labels2)\n",
    "\n",
    "print(\"Precision : {0}%\".format(precision))"
   ]
  },
  {
   "cell_type": "markdown",
   "metadata": {},
   "source": [
    "### Función auxiliar para plotear imagenes\n",
    "\n",
    "La siguiente función sirve para plotear 9 ejemplos de la base de datos MNIST, y indicar que número se trata. En el caso que se le pase lo que ha predicho la red ploteará las imágenes predichas correctamente con un marco verde y las mal predichas con un rectángulo rojo."
   ]
  },
  {
   "cell_type": "code",
   "execution_count": 82,
   "metadata": {},
   "outputs": [],
   "source": [
    "def plot_imagenes(imagenes, verdaderas, predichas=None):\n",
    "    \n",
    "    # Seleccionar 9 indices aleatorios para elegir las imagenes\n",
    "    ind = sample(range(len(imagenes)),9)\n",
    "    \n",
    "    # Tomar las imagenes\n",
    "    img = imagenes[ind]\n",
    "    \n",
    "    color = 'green'\n",
    "    \n",
    "    # Tomar las etiquetas verdaderas y predichas si las hay\n",
    "    if predichas is None:\n",
    "        etiq = verdaderas[ind]\n",
    "    else:\n",
    "        etiq = verdaderas[ind]\n",
    "        pred = predichas[ind]\n",
    "         \n",
    "    # Crear la figura con 3x3 sub-plots\n",
    "    fig, axes = plt.subplots(3, 3)\n",
    "    fig.subplots_adjust(hspace=0.3, wspace=0.3)\n",
    "\n",
    "    for i, ax in enumerate(axes.flat):\n",
    "        # Plotear imagen.\n",
    "        ax.imshow(img[i].reshape(img_shape), cmap='binary')\n",
    "\n",
    "        # Mostrar los numeros verdaderos y predichos\n",
    "        if predichas is None:\n",
    "            xlabel = \"Numero: {0}\".format(etiq[i])\n",
    "        else:\n",
    "            xlabel = \"Numero: {0}, Predicho: {1}\".format(etiq[i], pred[i])\n",
    "            \n",
    "            \n",
    "            if etiq[i] != pred[i]:\n",
    "                color = 'red'\n",
    "            \n",
    "            ax.spines['bottom'].set_color(color)\n",
    "            ax.spines['top'].set_color(color)\n",
    "            ax.spines['left'].set_color(color)\n",
    "            ax.spines['right'].set_color(color)\n",
    "            color = 'green'\n",
    "\n",
    "        # Mostrar los numeros en el eje x\n",
    "        ax.set_xlabel(xlabel)\n",
    "        \n",
    "        # Borrar los ticks del plot\n",
    "        ax.set_xticks([])\n",
    "        ax.set_yticks([])\n",
    "    \n",
    "    plt.show()"
   ]
  },
  {
   "cell_type": "markdown",
   "metadata": {},
   "source": [
    "### Mostrar algunos ejemplos predichos\n",
    "\n"
   ]
  },
  {
   "cell_type": "code",
   "execution_count": 89,
   "metadata": {},
   "outputs": [
    {
     "data": {
      "image/png": "[encoded data removed]",
      "text/plain": [
       "<Figure size 432x288 with 9 Axes>"
      ]
     },
     "metadata": {},
     "output_type": "display_data"
    }
   ],
   "source": [
    "plot_imagenes(imagenes=images_test,\n",
    "              verdaderas=true_labels2,\n",
    "              predichas=cls_pred2)"
   ]
  }
 ],
 "metadata": {
  "kernelspec": {
   "display_name": "Python 3",
   "language": "python",
   "name": "python3"
  },
  "language_info": {
   "codemirror_mode": {
    "name": "ipython",
    "version": 3
   },
   "file_extension": ".py",
   "mimetype": "text/x-python",
   "name": "python",
   "nbconvert_exporter": "python",
   "pygments_lexer": "ipython3",
   "version": "3.6.4"
  }
 },
 "nbformat": 4,
 "nbformat_minor": 2
}
